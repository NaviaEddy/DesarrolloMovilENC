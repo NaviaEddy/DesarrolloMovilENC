{
  "cells": [
    {
      "cell_type": "code",
      "execution_count": 22,
      "metadata": {
        "colab": {
          "base_uri": "https://localhost:8080/"
        },
        "id": "tB4NX4OEpT6O",
        "outputId": "c787f059-a916-4591-b403-2c39e8794027"
      },
      "outputs": [
        {
          "name": "stdout",
          "output_type": "stream",
          "text": [
            "9 * 9 = 81\n",
            "9 * 9 = 89\n",
            "9 * 9 = 89\n",
            "9 * 9 = 89\n",
            "9 * 9 = 89\n",
            "Resultado:  899991\n",
            "9 * 9 = 81\n",
            "9 * 9 = 89\n",
            "9 * 9 = 89\n",
            "9 * 9 = 89\n",
            "9 * 9 = 89\n",
            "Resultado:  8999910\n",
            "Suma de resultados: \n",
            "+ 899991\n",
            "+ 8999910\n",
            "Resultado final:  9899901\n"
          ]
        }
      ],
      "source": [
        "def multiplicacion(n1, n2):\n",
        "    str_n1 = str(n1)\n",
        "    str_n2 = str(n2)\n",
        "\n",
        "    parciales = []\n",
        "\n",
        "    for i, digit2 in enumerate(reversed(str_n2)):\n",
        "        parcial = \"\"\n",
        "        acarreo = 0\n",
        "\n",
        "        parcial += \"0\" * i\n",
        "\n",
        "        for j, digit1 in enumerate(reversed(str_n1)):\n",
        "            mult = int(digit1) * int(digit2) + acarreo\n",
        "            acarreo = mult // 10\n",
        "            parcial = str(mult % 10) + parcial\n",
        "\n",
        "            print(digit1, \"*\", digit2, \"=\", mult)\n",
        "\n",
        "        if acarreo > 0:\n",
        "            parcial = str(acarreo) + parcial\n",
        "\n",
        "        parciales.append(int(parcial))\n",
        "        print(\"Resultado: \", parcial)\n",
        "\n",
        "    print(\"Suma de resultados: \")\n",
        "    resultado_final = 0\n",
        "    for i, parcial in enumerate(parciales):\n",
        "        print(\"+\", parcial)\n",
        "        resultado_final += parcial\n",
        "\n",
        "    print(\"Resultado final: \", resultado_final)\n",
        "\n",
        "multiplicacion(99999, 99)"
      ]
    },
    {
      "cell_type": "code",
      "execution_count": 23,
      "metadata": {},
      "outputs": [
        {
          "name": "stdout",
          "output_type": "stream",
          "text": [
            "DIVISION:  99999 / 99\n",
            "Paso 1:\n",
            "Dividendo actual: 99 | Divisor: 99 | Cociente parcial: 1 | Resto: 0\n",
            "----------\n",
            "Paso 2:\n",
            "Dividendo actual: 9 | Divisor: 99 | Cociente parcial: 0 | Resto: 9\n",
            "----------\n",
            "Paso 3:\n",
            "Dividendo actual: 99 | Divisor: 99 | Cociente parcial: 1 | Resto: 0\n",
            "----------\n",
            "Paso 4:\n",
            "Dividendo actual: 9 | Divisor: 99 | Cociente parcial: 0 | Resto: 9\n",
            "----------\n",
            "Cociente Final: 1010\n",
            "Residuo Final: 9\n"
          ]
        }
      ],
      "source": [
        "def division_larga(dividendo, divisor):\n",
        "    # Convertir números a cadenas para manipulación fácil de dígitos\n",
        "    dividendo_str = str(dividendo)\n",
        "    divisor = int(divisor)\n",
        "    \n",
        "    # Inicializar variables\n",
        "    cociente = \"\"\n",
        "    residuo = 0\n",
        "    paso = 0\n",
        "\n",
        "    print(\"DIVISION: \", dividendo_str, \"/\", divisor)\n",
        "\n",
        "    for digito in dividendo_str:\n",
        "        # Bajar el siguiente dígito\n",
        "        residuo = residuo * 10 + int(digito)\n",
        "        \n",
        "        # Determinar cuántas veces cabe el divisor en el residuo actual\n",
        "        digito_cociente_actual = residuo // divisor\n",
        "        cociente += str(digito_cociente_actual)\n",
        "        \n",
        "        # Calcular el nuevo residuo\n",
        "        nuevo_residuo = residuo % divisor\n",
        "\n",
        "        # Imprimir el estado actual para cada paso\n",
        "        if paso >= 1:\n",
        "            print(f\"Paso {paso}:\")\n",
        "            print(f\"Dividendo actual: {residuo} | Divisor: {divisor} | Cociente parcial: {digito_cociente_actual} | Resto: {nuevo_residuo}\")\n",
        "            print(\"----------\")\n",
        "\n",
        "        # Actualizar el residuo para el próximo paso\n",
        "        residuo = nuevo_residuo\n",
        "        paso += 1\n",
        "\n",
        "    return int(cociente), residuo\n",
        "\n",
        "# Definir los números como se ven en la imagen\n",
        "dividendo = 99999\n",
        "divisor = 99\n",
        "\n",
        "# Realizar la división larga\n",
        "cociente, residuo = division_larga(dividendo, divisor)\n",
        "\n",
        "print(f\"Cociente Final: {cociente}\")\n",
        "print(f\"Residuo Final: {residuo}\")\n"
      ]
    }
  ],
  "metadata": {
    "colab": {
      "provenance": []
    },
    "kernelspec": {
      "display_name": "Python 3",
      "name": "python3"
    },
    "language_info": {
      "codemirror_mode": {
        "name": "ipython",
        "version": 3
      },
      "file_extension": ".py",
      "mimetype": "text/x-python",
      "name": "python",
      "nbconvert_exporter": "python",
      "pygments_lexer": "ipython3",
      "version": "3.12.2"
    }
  },
  "nbformat": 4,
  "nbformat_minor": 0
}
